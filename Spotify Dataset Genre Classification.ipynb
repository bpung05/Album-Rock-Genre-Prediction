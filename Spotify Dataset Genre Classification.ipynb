{
 "cells": [
  {
   "cell_type": "markdown",
   "id": "a8fe61ce",
   "metadata": {},
   "source": [
    "# Spotify Music Genre Prediction For Classical Rock Genre"
   ]
  },
  {
   "cell_type": "markdown",
   "id": "53deb70e",
   "metadata": {},
   "source": [
    "This notebook is by Ben Pung (me) and is a demonstration in machine learning techniques, data cleaning, and data analysis. Hopefully you find it useful to learn or get to know more about me and my skills or interests!"
   ]
  },
  {
   "cell_type": "markdown",
   "id": "b3081faf",
   "metadata": {},
   "source": [
    "## Import the Data"
   ]
  },
  {
   "cell_type": "markdown",
   "id": "2c018b5f",
   "metadata": {},
   "source": [
    "I start by importing all the normal imports and loading the data"
   ]
  },
  {
   "cell_type": "code",
   "execution_count": 3,
   "id": "7437365b",
   "metadata": {},
   "outputs": [],
   "source": [
    "import pandas as pd\n",
    "import numpy as np\n",
    "import matplotlib.pyplot as plt\n",
    "import sklearn\n",
    "\n",
    "df = pd.read_csv(\"Spotify-2000.csv\")"
   ]
  },
  {
   "cell_type": "code",
   "execution_count": 4,
   "id": "8f8730d8",
   "metadata": {
    "scrolled": true
   },
   "outputs": [
    {
     "data": {
      "text/html": [
       "<div>\n",
       "<style scoped>\n",
       "    .dataframe tbody tr th:only-of-type {\n",
       "        vertical-align: middle;\n",
       "    }\n",
       "\n",
       "    .dataframe tbody tr th {\n",
       "        vertical-align: top;\n",
       "    }\n",
       "\n",
       "    .dataframe thead th {\n",
       "        text-align: right;\n",
       "    }\n",
       "</style>\n",
       "<table border=\"1\" class=\"dataframe\">\n",
       "  <thead>\n",
       "    <tr style=\"text-align: right;\">\n",
       "      <th></th>\n",
       "      <th>Index</th>\n",
       "      <th>Title</th>\n",
       "      <th>Artist</th>\n",
       "      <th>Top Genre</th>\n",
       "      <th>Year</th>\n",
       "      <th>Beats Per Minute (BPM)</th>\n",
       "      <th>Energy</th>\n",
       "      <th>Danceability</th>\n",
       "      <th>Loudness (dB)</th>\n",
       "      <th>Liveness</th>\n",
       "      <th>Valence</th>\n",
       "      <th>Length (Duration)</th>\n",
       "      <th>Acousticness</th>\n",
       "      <th>Speechiness</th>\n",
       "      <th>Popularity</th>\n",
       "    </tr>\n",
       "  </thead>\n",
       "  <tbody>\n",
       "    <tr>\n",
       "      <th>0</th>\n",
       "      <td>1</td>\n",
       "      <td>Sunrise</td>\n",
       "      <td>Norah Jones</td>\n",
       "      <td>adult standards</td>\n",
       "      <td>2004</td>\n",
       "      <td>157</td>\n",
       "      <td>30</td>\n",
       "      <td>53</td>\n",
       "      <td>-14</td>\n",
       "      <td>11</td>\n",
       "      <td>68</td>\n",
       "      <td>201</td>\n",
       "      <td>94</td>\n",
       "      <td>3</td>\n",
       "      <td>71</td>\n",
       "    </tr>\n",
       "    <tr>\n",
       "      <th>1</th>\n",
       "      <td>2</td>\n",
       "      <td>Black Night</td>\n",
       "      <td>Deep Purple</td>\n",
       "      <td>album rock</td>\n",
       "      <td>2000</td>\n",
       "      <td>135</td>\n",
       "      <td>79</td>\n",
       "      <td>50</td>\n",
       "      <td>-11</td>\n",
       "      <td>17</td>\n",
       "      <td>81</td>\n",
       "      <td>207</td>\n",
       "      <td>17</td>\n",
       "      <td>7</td>\n",
       "      <td>39</td>\n",
       "    </tr>\n",
       "    <tr>\n",
       "      <th>2</th>\n",
       "      <td>3</td>\n",
       "      <td>Clint Eastwood</td>\n",
       "      <td>Gorillaz</td>\n",
       "      <td>alternative hip hop</td>\n",
       "      <td>2001</td>\n",
       "      <td>168</td>\n",
       "      <td>69</td>\n",
       "      <td>66</td>\n",
       "      <td>-9</td>\n",
       "      <td>7</td>\n",
       "      <td>52</td>\n",
       "      <td>341</td>\n",
       "      <td>2</td>\n",
       "      <td>17</td>\n",
       "      <td>69</td>\n",
       "    </tr>\n",
       "    <tr>\n",
       "      <th>3</th>\n",
       "      <td>4</td>\n",
       "      <td>The Pretender</td>\n",
       "      <td>Foo Fighters</td>\n",
       "      <td>alternative metal</td>\n",
       "      <td>2007</td>\n",
       "      <td>173</td>\n",
       "      <td>96</td>\n",
       "      <td>43</td>\n",
       "      <td>-4</td>\n",
       "      <td>3</td>\n",
       "      <td>37</td>\n",
       "      <td>269</td>\n",
       "      <td>0</td>\n",
       "      <td>4</td>\n",
       "      <td>76</td>\n",
       "    </tr>\n",
       "    <tr>\n",
       "      <th>4</th>\n",
       "      <td>5</td>\n",
       "      <td>Waitin' On A Sunny Day</td>\n",
       "      <td>Bruce Springsteen</td>\n",
       "      <td>classic rock</td>\n",
       "      <td>2002</td>\n",
       "      <td>106</td>\n",
       "      <td>82</td>\n",
       "      <td>58</td>\n",
       "      <td>-5</td>\n",
       "      <td>10</td>\n",
       "      <td>87</td>\n",
       "      <td>256</td>\n",
       "      <td>1</td>\n",
       "      <td>3</td>\n",
       "      <td>59</td>\n",
       "    </tr>\n",
       "  </tbody>\n",
       "</table>\n",
       "</div>"
      ],
      "text/plain": [
       "   Index                   Title             Artist            Top Genre  \\\n",
       "0      1                 Sunrise        Norah Jones      adult standards   \n",
       "1      2             Black Night        Deep Purple           album rock   \n",
       "2      3          Clint Eastwood           Gorillaz  alternative hip hop   \n",
       "3      4           The Pretender       Foo Fighters    alternative metal   \n",
       "4      5  Waitin' On A Sunny Day  Bruce Springsteen         classic rock   \n",
       "\n",
       "   Year  Beats Per Minute (BPM)  Energy  Danceability  Loudness (dB)  \\\n",
       "0  2004                     157      30            53            -14   \n",
       "1  2000                     135      79            50            -11   \n",
       "2  2001                     168      69            66             -9   \n",
       "3  2007                     173      96            43             -4   \n",
       "4  2002                     106      82            58             -5   \n",
       "\n",
       "   Liveness  Valence Length (Duration)  Acousticness  Speechiness  Popularity  \n",
       "0        11       68               201            94            3          71  \n",
       "1        17       81               207            17            7          39  \n",
       "2         7       52               341             2           17          69  \n",
       "3         3       37               269             0            4          76  \n",
       "4        10       87               256             1            3          59  "
      ]
     },
     "execution_count": 4,
     "metadata": {},
     "output_type": "execute_result"
    }
   ],
   "source": [
    "#Display the data\n",
    "df.head()"
   ]
  },
  {
   "cell_type": "markdown",
   "id": "90577de3",
   "metadata": {},
   "source": [
    "Next since I am now trying to do an analysis on classic rock, I will chose to binary encode the classic rock as a 1 and the rest as 0. I do this using the lambda function."
   ]
  },
  {
   "cell_type": "code",
   "execution_count": 5,
   "id": "440d6a13",
   "metadata": {},
   "outputs": [],
   "source": [
    "df[\"Genre Index\"] = df[\"Top Genre\"].apply(lambda x:  1 if x==\"album rock\" else 0) "
   ]
  },
  {
   "cell_type": "markdown",
   "id": "2a87bbf6",
   "metadata": {},
   "source": [
    "Drop the artist, title, index, and top genre from the list because I am not using these columns of data."
   ]
  },
  {
   "cell_type": "code",
   "execution_count": 6,
   "id": "028f37b7",
   "metadata": {},
   "outputs": [],
   "source": [
    "df = df.drop(columns=['Artist', 'Title', 'Index', 'Top Genre'])"
   ]
  },
  {
   "cell_type": "code",
   "execution_count": 7,
   "id": "c26dd550",
   "metadata": {},
   "outputs": [
    {
     "name": "stdout",
     "output_type": "stream",
     "text": [
      "Year                       int64\n",
      "Beats Per Minute (BPM)     int64\n",
      "Energy                     int64\n",
      "Danceability               int64\n",
      "Loudness (dB)              int64\n",
      "Liveness                   int64\n",
      "Valence                    int64\n",
      "Length (Duration)         object\n",
      "Acousticness               int64\n",
      "Speechiness                int64\n",
      "Popularity                 int64\n",
      "Genre Index                int64\n",
      "dtype: object\n"
     ]
    }
   ],
   "source": [
    "print(df.dtypes)"
   ]
  },
  {
   "cell_type": "markdown",
   "id": "a3098fec",
   "metadata": {},
   "source": [
    "I see that the Length is an object data type so I need to convert that to a number!"
   ]
  },
  {
   "cell_type": "code",
   "execution_count": 8,
   "id": "c88a19ef",
   "metadata": {},
   "outputs": [],
   "source": [
    "df = df.rename(columns = {\"Length (Duration)\" : \"Length\"})"
   ]
  },
  {
   "cell_type": "markdown",
   "id": "c4dd20f9",
   "metadata": {},
   "source": [
    "Change Length (Duration) to Length because it's annoying me"
   ]
  },
  {
   "cell_type": "code",
   "execution_count": 9,
   "id": "2edb990e",
   "metadata": {},
   "outputs": [],
   "source": [
    "df[\"Length\"] = df[\"Length\"].apply(lambda x:  x.replace(',','') if not isinstance(x, int) else x)"
   ]
  },
  {
   "cell_type": "code",
   "execution_count": 10,
   "id": "aad883c7",
   "metadata": {},
   "outputs": [
    {
     "data": {
      "text/html": [
       "<div>\n",
       "<style scoped>\n",
       "    .dataframe tbody tr th:only-of-type {\n",
       "        vertical-align: middle;\n",
       "    }\n",
       "\n",
       "    .dataframe tbody tr th {\n",
       "        vertical-align: top;\n",
       "    }\n",
       "\n",
       "    .dataframe thead th {\n",
       "        text-align: right;\n",
       "    }\n",
       "</style>\n",
       "<table border=\"1\" class=\"dataframe\">\n",
       "  <thead>\n",
       "    <tr style=\"text-align: right;\">\n",
       "      <th></th>\n",
       "      <th>Year</th>\n",
       "      <th>Beats Per Minute (BPM)</th>\n",
       "      <th>Energy</th>\n",
       "      <th>Danceability</th>\n",
       "      <th>Loudness (dB)</th>\n",
       "      <th>Liveness</th>\n",
       "      <th>Valence</th>\n",
       "      <th>Length</th>\n",
       "      <th>Acousticness</th>\n",
       "      <th>Speechiness</th>\n",
       "      <th>Popularity</th>\n",
       "      <th>Genre Index</th>\n",
       "    </tr>\n",
       "  </thead>\n",
       "  <tbody>\n",
       "    <tr>\n",
       "      <th>0</th>\n",
       "      <td>2004</td>\n",
       "      <td>157</td>\n",
       "      <td>30</td>\n",
       "      <td>53</td>\n",
       "      <td>-14</td>\n",
       "      <td>11</td>\n",
       "      <td>68</td>\n",
       "      <td>201</td>\n",
       "      <td>94</td>\n",
       "      <td>3</td>\n",
       "      <td>71</td>\n",
       "      <td>0</td>\n",
       "    </tr>\n",
       "    <tr>\n",
       "      <th>1</th>\n",
       "      <td>2000</td>\n",
       "      <td>135</td>\n",
       "      <td>79</td>\n",
       "      <td>50</td>\n",
       "      <td>-11</td>\n",
       "      <td>17</td>\n",
       "      <td>81</td>\n",
       "      <td>207</td>\n",
       "      <td>17</td>\n",
       "      <td>7</td>\n",
       "      <td>39</td>\n",
       "      <td>1</td>\n",
       "    </tr>\n",
       "    <tr>\n",
       "      <th>2</th>\n",
       "      <td>2001</td>\n",
       "      <td>168</td>\n",
       "      <td>69</td>\n",
       "      <td>66</td>\n",
       "      <td>-9</td>\n",
       "      <td>7</td>\n",
       "      <td>52</td>\n",
       "      <td>341</td>\n",
       "      <td>2</td>\n",
       "      <td>17</td>\n",
       "      <td>69</td>\n",
       "      <td>0</td>\n",
       "    </tr>\n",
       "    <tr>\n",
       "      <th>3</th>\n",
       "      <td>2007</td>\n",
       "      <td>173</td>\n",
       "      <td>96</td>\n",
       "      <td>43</td>\n",
       "      <td>-4</td>\n",
       "      <td>3</td>\n",
       "      <td>37</td>\n",
       "      <td>269</td>\n",
       "      <td>0</td>\n",
       "      <td>4</td>\n",
       "      <td>76</td>\n",
       "      <td>0</td>\n",
       "    </tr>\n",
       "    <tr>\n",
       "      <th>4</th>\n",
       "      <td>2002</td>\n",
       "      <td>106</td>\n",
       "      <td>82</td>\n",
       "      <td>58</td>\n",
       "      <td>-5</td>\n",
       "      <td>10</td>\n",
       "      <td>87</td>\n",
       "      <td>256</td>\n",
       "      <td>1</td>\n",
       "      <td>3</td>\n",
       "      <td>59</td>\n",
       "      <td>0</td>\n",
       "    </tr>\n",
       "  </tbody>\n",
       "</table>\n",
       "</div>"
      ],
      "text/plain": [
       "   Year  Beats Per Minute (BPM)  Energy  Danceability  Loudness (dB)  \\\n",
       "0  2004                     157      30            53            -14   \n",
       "1  2000                     135      79            50            -11   \n",
       "2  2001                     168      69            66             -9   \n",
       "3  2007                     173      96            43             -4   \n",
       "4  2002                     106      82            58             -5   \n",
       "\n",
       "   Liveness  Valence Length  Acousticness  Speechiness  Popularity  \\\n",
       "0        11       68    201            94            3          71   \n",
       "1        17       81    207            17            7          39   \n",
       "2         7       52    341             2           17          69   \n",
       "3         3       37    269             0            4          76   \n",
       "4        10       87    256             1            3          59   \n",
       "\n",
       "   Genre Index  \n",
       "0            0  \n",
       "1            1  \n",
       "2            0  \n",
       "3            0  \n",
       "4            0  "
      ]
     },
     "execution_count": 10,
     "metadata": {},
     "output_type": "execute_result"
    }
   ],
   "source": [
    "df.head()"
   ]
  },
  {
   "cell_type": "code",
   "execution_count": 11,
   "id": "7108fc4c",
   "metadata": {},
   "outputs": [],
   "source": [
    "df[\"Length\"] = pd.to_numeric(df[\"Length\"])"
   ]
  },
  {
   "cell_type": "code",
   "execution_count": 12,
   "id": "8669e092",
   "metadata": {
    "scrolled": true
   },
   "outputs": [
    {
     "data": {
      "text/plain": [
       "0       201\n",
       "1       207\n",
       "2       341\n",
       "3       269\n",
       "4       256\n",
       "       ... \n",
       "1989    128\n",
       "1990    136\n",
       "1991    162\n",
       "1992    324\n",
       "1993    148\n",
       "Name: Length, Length: 1994, dtype: int64"
      ]
     },
     "execution_count": 12,
     "metadata": {},
     "output_type": "execute_result"
    }
   ],
   "source": [
    "df[\"Length\"]"
   ]
  },
  {
   "cell_type": "markdown",
   "id": "90d3c042",
   "metadata": {},
   "source": [
    "Now our data should be workable because it's all in numerical form. "
   ]
  },
  {
   "cell_type": "code",
   "execution_count": 13,
   "id": "ae9e647b",
   "metadata": {},
   "outputs": [
    {
     "name": "stdout",
     "output_type": "stream",
     "text": [
      "Year                      int64\n",
      "Beats Per Minute (BPM)    int64\n",
      "Energy                    int64\n",
      "Danceability              int64\n",
      "Loudness (dB)             int64\n",
      "Liveness                  int64\n",
      "Valence                   int64\n",
      "Length                    int64\n",
      "Acousticness              int64\n",
      "Speechiness               int64\n",
      "Popularity                int64\n",
      "Genre Index               int64\n",
      "dtype: object\n"
     ]
    }
   ],
   "source": [
    "print(df.dtypes)"
   ]
  },
  {
   "cell_type": "markdown",
   "id": "11cd96ff",
   "metadata": {},
   "source": [
    "# Exploratory Data Analysis!"
   ]
  },
  {
   "cell_type": "markdown",
   "id": "97a12528",
   "metadata": {},
   "source": [
    "## Null and Duplicated Data"
   ]
  },
  {
   "cell_type": "markdown",
   "id": "fa8596ea",
   "metadata": {},
   "source": [
    "The first thing I want to do is just check for any null values. Luckily it looks like this data set does not have any null. I also check for any values less than 0."
   ]
  },
  {
   "cell_type": "code",
   "execution_count": 14,
   "id": "07a2853c",
   "metadata": {},
   "outputs": [
    {
     "data": {
      "text/plain": [
       "Year                      0\n",
       "Beats Per Minute (BPM)    0\n",
       "Energy                    0\n",
       "Danceability              0\n",
       "Loudness (dB)             0\n",
       "Liveness                  0\n",
       "Valence                   0\n",
       "Length                    0\n",
       "Acousticness              0\n",
       "Speechiness               0\n",
       "Popularity                0\n",
       "Genre Index               0\n",
       "dtype: int64"
      ]
     },
     "execution_count": 14,
     "metadata": {},
     "output_type": "execute_result"
    }
   ],
   "source": [
    "np.isnan(df).sum()"
   ]
  },
  {
   "cell_type": "markdown",
   "id": "1aead5d2",
   "metadata": {},
   "source": [
    "It looks like there is only one column with any negatives. After a quick google it turns out loudness is measured from reference so the fact that it is negative is fine. "
   ]
  },
  {
   "cell_type": "markdown",
   "id": "bb28c8f1",
   "metadata": {},
   "source": [
    "Now I check to understand if there is any missing or null data in the set. There is not so onto the next."
   ]
  },
  {
   "cell_type": "code",
   "execution_count": 15,
   "id": "299df95f",
   "metadata": {},
   "outputs": [
    {
     "data": {
      "text/plain": [
       "Year                      0\n",
       "Beats Per Minute (BPM)    0\n",
       "Energy                    0\n",
       "Danceability              0\n",
       "Loudness (dB)             0\n",
       "Liveness                  0\n",
       "Valence                   0\n",
       "Length                    0\n",
       "Acousticness              0\n",
       "Speechiness               0\n",
       "Popularity                0\n",
       "Genre Index               0\n",
       "dtype: int64"
      ]
     },
     "execution_count": 15,
     "metadata": {},
     "output_type": "execute_result"
    }
   ],
   "source": [
    "df.isna().sum()"
   ]
  },
  {
   "cell_type": "markdown",
   "id": "ea9c6d38",
   "metadata": {},
   "source": [
    "## Distribution Checks"
   ]
  },
  {
   "cell_type": "markdown",
   "id": "2cf0ad1e",
   "metadata": {},
   "source": [
    "Below is the distrubution for the number of album rock values compared to the other types of genres. It is clear that the majority of songs are not album rock but there are quite a few that are. This seems that it would be a good spread."
   ]
  },
  {
   "cell_type": "code",
   "execution_count": 16,
   "id": "6052cdbb",
   "metadata": {},
   "outputs": [
    {
     "data": {
      "text/plain": [
       "<AxesSubplot:>"
      ]
     },
     "execution_count": 16,
     "metadata": {},
     "output_type": "execute_result"
    },
    {
     "data": {
      "image/png": "[encoded data removed]",
      "text/plain": [
       "<Figure size 432x288 with 1 Axes>"
      ]
     },
     "metadata": {
      "needs_background": "light"
     },
     "output_type": "display_data"
    }
   ],
   "source": [
    "df[\"Genre Index\"].hist()"
   ]
  },
  {
   "cell_type": "markdown",
   "id": "a8f39939",
   "metadata": {},
   "source": [
    "There is no missing data so I will not do any distribution checks to see if the missing data is evenly distributed. Rather, if there was, I would just check to see if the missing data was random or not."
   ]
  },
  {
   "cell_type": "markdown",
   "id": "dce186e4",
   "metadata": {},
   "source": [
    "## Feature Engineering"
   ]
  },
  {
   "cell_type": "code",
   "execution_count": 17,
   "id": "36eedcf1",
   "metadata": {},
   "outputs": [
    {
     "data": {
      "text/html": [
       "<div>\n",
       "<style scoped>\n",
       "    .dataframe tbody tr th:only-of-type {\n",
       "        vertical-align: middle;\n",
       "    }\n",
       "\n",
       "    .dataframe tbody tr th {\n",
       "        vertical-align: top;\n",
       "    }\n",
       "\n",
       "    .dataframe thead th {\n",
       "        text-align: right;\n",
       "    }\n",
       "</style>\n",
       "<table border=\"1\" class=\"dataframe\">\n",
       "  <thead>\n",
       "    <tr style=\"text-align: right;\">\n",
       "      <th></th>\n",
       "      <th>Year</th>\n",
       "      <th>Beats Per Minute (BPM)</th>\n",
       "      <th>Energy</th>\n",
       "      <th>Danceability</th>\n",
       "      <th>Loudness (dB)</th>\n",
       "      <th>Liveness</th>\n",
       "      <th>Valence</th>\n",
       "      <th>Length</th>\n",
       "      <th>Acousticness</th>\n",
       "      <th>Speechiness</th>\n",
       "      <th>Popularity</th>\n",
       "      <th>Genre Index</th>\n",
       "    </tr>\n",
       "  </thead>\n",
       "  <tbody>\n",
       "    <tr>\n",
       "      <th>0</th>\n",
       "      <td>2004</td>\n",
       "      <td>157</td>\n",
       "      <td>30</td>\n",
       "      <td>53</td>\n",
       "      <td>-14</td>\n",
       "      <td>11</td>\n",
       "      <td>68</td>\n",
       "      <td>201</td>\n",
       "      <td>94</td>\n",
       "      <td>3</td>\n",
       "      <td>71</td>\n",
       "      <td>0</td>\n",
       "    </tr>\n",
       "    <tr>\n",
       "      <th>1</th>\n",
       "      <td>2000</td>\n",
       "      <td>135</td>\n",
       "      <td>79</td>\n",
       "      <td>50</td>\n",
       "      <td>-11</td>\n",
       "      <td>17</td>\n",
       "      <td>81</td>\n",
       "      <td>207</td>\n",
       "      <td>17</td>\n",
       "      <td>7</td>\n",
       "      <td>39</td>\n",
       "      <td>1</td>\n",
       "    </tr>\n",
       "    <tr>\n",
       "      <th>2</th>\n",
       "      <td>2001</td>\n",
       "      <td>168</td>\n",
       "      <td>69</td>\n",
       "      <td>66</td>\n",
       "      <td>-9</td>\n",
       "      <td>7</td>\n",
       "      <td>52</td>\n",
       "      <td>341</td>\n",
       "      <td>2</td>\n",
       "      <td>17</td>\n",
       "      <td>69</td>\n",
       "      <td>0</td>\n",
       "    </tr>\n",
       "    <tr>\n",
       "      <th>3</th>\n",
       "      <td>2007</td>\n",
       "      <td>173</td>\n",
       "      <td>96</td>\n",
       "      <td>43</td>\n",
       "      <td>-4</td>\n",
       "      <td>3</td>\n",
       "      <td>37</td>\n",
       "      <td>269</td>\n",
       "      <td>0</td>\n",
       "      <td>4</td>\n",
       "      <td>76</td>\n",
       "      <td>0</td>\n",
       "    </tr>\n",
       "    <tr>\n",
       "      <th>4</th>\n",
       "      <td>2002</td>\n",
       "      <td>106</td>\n",
       "      <td>82</td>\n",
       "      <td>58</td>\n",
       "      <td>-5</td>\n",
       "      <td>10</td>\n",
       "      <td>87</td>\n",
       "      <td>256</td>\n",
       "      <td>1</td>\n",
       "      <td>3</td>\n",
       "      <td>59</td>\n",
       "      <td>0</td>\n",
       "    </tr>\n",
       "  </tbody>\n",
       "</table>\n",
       "</div>"
      ],
      "text/plain": [
       "   Year  Beats Per Minute (BPM)  Energy  Danceability  Loudness (dB)  \\\n",
       "0  2004                     157      30            53            -14   \n",
       "1  2000                     135      79            50            -11   \n",
       "2  2001                     168      69            66             -9   \n",
       "3  2007                     173      96            43             -4   \n",
       "4  2002                     106      82            58             -5   \n",
       "\n",
       "   Liveness  Valence  Length  Acousticness  Speechiness  Popularity  \\\n",
       "0        11       68     201            94            3          71   \n",
       "1        17       81     207            17            7          39   \n",
       "2         7       52     341             2           17          69   \n",
       "3         3       37     269             0            4          76   \n",
       "4        10       87     256             1            3          59   \n",
       "\n",
       "   Genre Index  \n",
       "0            0  \n",
       "1            1  \n",
       "2            0  \n",
       "3            0  \n",
       "4            0  "
      ]
     },
     "execution_count": 17,
     "metadata": {},
     "output_type": "execute_result"
    }
   ],
   "source": [
    "df.head()"
   ]
  },
  {
   "cell_type": "markdown",
   "id": "85fad5fc",
   "metadata": {},
   "source": [
    "One thing I would like to change is the loudness being negative. I eventually want all of my values between 0 and 1 after I normalize so I want to just make loudness positive for right now."
   ]
  },
  {
   "cell_type": "code",
   "execution_count": 18,
   "id": "d23e278e",
   "metadata": {},
   "outputs": [
    {
     "data": {
      "text/html": [
       "<div>\n",
       "<style scoped>\n",
       "    .dataframe tbody tr th:only-of-type {\n",
       "        vertical-align: middle;\n",
       "    }\n",
       "\n",
       "    .dataframe tbody tr th {\n",
       "        vertical-align: top;\n",
       "    }\n",
       "\n",
       "    .dataframe thead th {\n",
       "        text-align: right;\n",
       "    }\n",
       "</style>\n",
       "<table border=\"1\" class=\"dataframe\">\n",
       "  <thead>\n",
       "    <tr style=\"text-align: right;\">\n",
       "      <th></th>\n",
       "      <th>Year</th>\n",
       "      <th>Beats Per Minute (BPM)</th>\n",
       "      <th>Energy</th>\n",
       "      <th>Danceability</th>\n",
       "      <th>Loudness (dB)</th>\n",
       "      <th>Liveness</th>\n",
       "      <th>Valence</th>\n",
       "      <th>Length</th>\n",
       "      <th>Acousticness</th>\n",
       "      <th>Speechiness</th>\n",
       "      <th>Popularity</th>\n",
       "      <th>Genre Index</th>\n",
       "    </tr>\n",
       "  </thead>\n",
       "  <tbody>\n",
       "    <tr>\n",
       "      <th>0</th>\n",
       "      <td>2004</td>\n",
       "      <td>157</td>\n",
       "      <td>30</td>\n",
       "      <td>53</td>\n",
       "      <td>13</td>\n",
       "      <td>11</td>\n",
       "      <td>68</td>\n",
       "      <td>201</td>\n",
       "      <td>94</td>\n",
       "      <td>3</td>\n",
       "      <td>71</td>\n",
       "      <td>0</td>\n",
       "    </tr>\n",
       "    <tr>\n",
       "      <th>1</th>\n",
       "      <td>2000</td>\n",
       "      <td>135</td>\n",
       "      <td>79</td>\n",
       "      <td>50</td>\n",
       "      <td>16</td>\n",
       "      <td>17</td>\n",
       "      <td>81</td>\n",
       "      <td>207</td>\n",
       "      <td>17</td>\n",
       "      <td>7</td>\n",
       "      <td>39</td>\n",
       "      <td>1</td>\n",
       "    </tr>\n",
       "    <tr>\n",
       "      <th>2</th>\n",
       "      <td>2001</td>\n",
       "      <td>168</td>\n",
       "      <td>69</td>\n",
       "      <td>66</td>\n",
       "      <td>18</td>\n",
       "      <td>7</td>\n",
       "      <td>52</td>\n",
       "      <td>341</td>\n",
       "      <td>2</td>\n",
       "      <td>17</td>\n",
       "      <td>69</td>\n",
       "      <td>0</td>\n",
       "    </tr>\n",
       "    <tr>\n",
       "      <th>3</th>\n",
       "      <td>2007</td>\n",
       "      <td>173</td>\n",
       "      <td>96</td>\n",
       "      <td>43</td>\n",
       "      <td>23</td>\n",
       "      <td>3</td>\n",
       "      <td>37</td>\n",
       "      <td>269</td>\n",
       "      <td>0</td>\n",
       "      <td>4</td>\n",
       "      <td>76</td>\n",
       "      <td>0</td>\n",
       "    </tr>\n",
       "    <tr>\n",
       "      <th>4</th>\n",
       "      <td>2002</td>\n",
       "      <td>106</td>\n",
       "      <td>82</td>\n",
       "      <td>58</td>\n",
       "      <td>22</td>\n",
       "      <td>10</td>\n",
       "      <td>87</td>\n",
       "      <td>256</td>\n",
       "      <td>1</td>\n",
       "      <td>3</td>\n",
       "      <td>59</td>\n",
       "      <td>0</td>\n",
       "    </tr>\n",
       "    <tr>\n",
       "      <th>...</th>\n",
       "      <td>...</td>\n",
       "      <td>...</td>\n",
       "      <td>...</td>\n",
       "      <td>...</td>\n",
       "      <td>...</td>\n",
       "      <td>...</td>\n",
       "      <td>...</td>\n",
       "      <td>...</td>\n",
       "      <td>...</td>\n",
       "      <td>...</td>\n",
       "      <td>...</td>\n",
       "      <td>...</td>\n",
       "    </tr>\n",
       "    <tr>\n",
       "      <th>1989</th>\n",
       "      <td>1958</td>\n",
       "      <td>94</td>\n",
       "      <td>21</td>\n",
       "      <td>70</td>\n",
       "      <td>15</td>\n",
       "      <td>11</td>\n",
       "      <td>72</td>\n",
       "      <td>128</td>\n",
       "      <td>84</td>\n",
       "      <td>7</td>\n",
       "      <td>63</td>\n",
       "      <td>0</td>\n",
       "    </tr>\n",
       "    <tr>\n",
       "      <th>1990</th>\n",
       "      <td>1958</td>\n",
       "      <td>175</td>\n",
       "      <td>76</td>\n",
       "      <td>36</td>\n",
       "      <td>19</td>\n",
       "      <td>76</td>\n",
       "      <td>95</td>\n",
       "      <td>136</td>\n",
       "      <td>73</td>\n",
       "      <td>6</td>\n",
       "      <td>69</td>\n",
       "      <td>0</td>\n",
       "    </tr>\n",
       "    <tr>\n",
       "      <th>1991</th>\n",
       "      <td>1959</td>\n",
       "      <td>168</td>\n",
       "      <td>80</td>\n",
       "      <td>53</td>\n",
       "      <td>18</td>\n",
       "      <td>31</td>\n",
       "      <td>97</td>\n",
       "      <td>162</td>\n",
       "      <td>74</td>\n",
       "      <td>7</td>\n",
       "      <td>74</td>\n",
       "      <td>0</td>\n",
       "    </tr>\n",
       "    <tr>\n",
       "      <th>1992</th>\n",
       "      <td>1959</td>\n",
       "      <td>174</td>\n",
       "      <td>26</td>\n",
       "      <td>45</td>\n",
       "      <td>14</td>\n",
       "      <td>7</td>\n",
       "      <td>60</td>\n",
       "      <td>324</td>\n",
       "      <td>54</td>\n",
       "      <td>4</td>\n",
       "      <td>65</td>\n",
       "      <td>0</td>\n",
       "    </tr>\n",
       "    <tr>\n",
       "      <th>1993</th>\n",
       "      <td>1959</td>\n",
       "      <td>133</td>\n",
       "      <td>50</td>\n",
       "      <td>49</td>\n",
       "      <td>17</td>\n",
       "      <td>16</td>\n",
       "      <td>83</td>\n",
       "      <td>148</td>\n",
       "      <td>74</td>\n",
       "      <td>3</td>\n",
       "      <td>56</td>\n",
       "      <td>0</td>\n",
       "    </tr>\n",
       "  </tbody>\n",
       "</table>\n",
       "<p>1994 rows × 12 columns</p>\n",
       "</div>"
      ],
      "text/plain": [
       "      Year  Beats Per Minute (BPM)  Energy  Danceability  Loudness (dB)  \\\n",
       "0     2004                     157      30            53             13   \n",
       "1     2000                     135      79            50             16   \n",
       "2     2001                     168      69            66             18   \n",
       "3     2007                     173      96            43             23   \n",
       "4     2002                     106      82            58             22   \n",
       "...    ...                     ...     ...           ...            ...   \n",
       "1989  1958                      94      21            70             15   \n",
       "1990  1958                     175      76            36             19   \n",
       "1991  1959                     168      80            53             18   \n",
       "1992  1959                     174      26            45             14   \n",
       "1993  1959                     133      50            49             17   \n",
       "\n",
       "      Liveness  Valence  Length  Acousticness  Speechiness  Popularity  \\\n",
       "0           11       68     201            94            3          71   \n",
       "1           17       81     207            17            7          39   \n",
       "2            7       52     341             2           17          69   \n",
       "3            3       37     269             0            4          76   \n",
       "4           10       87     256             1            3          59   \n",
       "...        ...      ...     ...           ...          ...         ...   \n",
       "1989        11       72     128            84            7          63   \n",
       "1990        76       95     136            73            6          69   \n",
       "1991        31       97     162            74            7          74   \n",
       "1992         7       60     324            54            4          65   \n",
       "1993        16       83     148            74            3          56   \n",
       "\n",
       "      Genre Index  \n",
       "0               0  \n",
       "1               1  \n",
       "2               0  \n",
       "3               0  \n",
       "4               0  \n",
       "...           ...  \n",
       "1989            0  \n",
       "1990            0  \n",
       "1991            0  \n",
       "1992            0  \n",
       "1993            0  \n",
       "\n",
       "[1994 rows x 12 columns]"
      ]
     },
     "execution_count": 18,
     "metadata": {},
     "output_type": "execute_result"
    }
   ],
   "source": [
    "minimum = df[\"Loudness (dB)\"].min() * -1\n",
    "df[\"Loudness (dB)\"] = df[\"Loudness (dB)\"] + minimum\n",
    "df"
   ]
  },
  {
   "cell_type": "markdown",
   "id": "696da3a3",
   "metadata": {},
   "source": [
    "The next thing to do is to normalize the data. "
   ]
  },
  {
   "cell_type": "code",
   "execution_count": 19,
   "id": "9e483c23",
   "metadata": {},
   "outputs": [],
   "source": [
    "predictors = list(set(list(df.columns)))\n",
    "df[predictors] = df[predictors]/df[predictors].max()"
   ]
  },
  {
   "cell_type": "code",
   "execution_count": 20,
   "id": "970f94c6",
   "metadata": {},
   "outputs": [
    {
     "data": {
      "text/html": [
       "<div>\n",
       "<style scoped>\n",
       "    .dataframe tbody tr th:only-of-type {\n",
       "        vertical-align: middle;\n",
       "    }\n",
       "\n",
       "    .dataframe tbody tr th {\n",
       "        vertical-align: top;\n",
       "    }\n",
       "\n",
       "    .dataframe thead th {\n",
       "        text-align: right;\n",
       "    }\n",
       "</style>\n",
       "<table border=\"1\" class=\"dataframe\">\n",
       "  <thead>\n",
       "    <tr style=\"text-align: right;\">\n",
       "      <th></th>\n",
       "      <th>Beats Per Minute (BPM)</th>\n",
       "      <th>Valence</th>\n",
       "      <th>Danceability</th>\n",
       "      <th>Genre Index</th>\n",
       "      <th>Energy</th>\n",
       "      <th>Length</th>\n",
       "      <th>Popularity</th>\n",
       "      <th>Year</th>\n",
       "      <th>Liveness</th>\n",
       "      <th>Speechiness</th>\n",
       "      <th>Acousticness</th>\n",
       "      <th>Loudness (dB)</th>\n",
       "    </tr>\n",
       "  </thead>\n",
       "  <tbody>\n",
       "    <tr>\n",
       "      <th>0</th>\n",
       "      <td>0.762136</td>\n",
       "      <td>0.686869</td>\n",
       "      <td>0.552083</td>\n",
       "      <td>0.0</td>\n",
       "      <td>0.30</td>\n",
       "      <td>0.142351</td>\n",
       "      <td>0.71</td>\n",
       "      <td>0.992571</td>\n",
       "      <td>0.111111</td>\n",
       "      <td>0.054545</td>\n",
       "      <td>0.949495</td>\n",
       "      <td>0.52</td>\n",
       "    </tr>\n",
       "    <tr>\n",
       "      <th>1</th>\n",
       "      <td>0.655340</td>\n",
       "      <td>0.818182</td>\n",
       "      <td>0.520833</td>\n",
       "      <td>1.0</td>\n",
       "      <td>0.79</td>\n",
       "      <td>0.146601</td>\n",
       "      <td>0.39</td>\n",
       "      <td>0.990589</td>\n",
       "      <td>0.171717</td>\n",
       "      <td>0.127273</td>\n",
       "      <td>0.171717</td>\n",
       "      <td>0.64</td>\n",
       "    </tr>\n",
       "    <tr>\n",
       "      <th>2</th>\n",
       "      <td>0.815534</td>\n",
       "      <td>0.525253</td>\n",
       "      <td>0.687500</td>\n",
       "      <td>0.0</td>\n",
       "      <td>0.69</td>\n",
       "      <td>0.241501</td>\n",
       "      <td>0.69</td>\n",
       "      <td>0.991085</td>\n",
       "      <td>0.070707</td>\n",
       "      <td>0.309091</td>\n",
       "      <td>0.020202</td>\n",
       "      <td>0.72</td>\n",
       "    </tr>\n",
       "    <tr>\n",
       "      <th>3</th>\n",
       "      <td>0.839806</td>\n",
       "      <td>0.373737</td>\n",
       "      <td>0.447917</td>\n",
       "      <td>0.0</td>\n",
       "      <td>0.96</td>\n",
       "      <td>0.190510</td>\n",
       "      <td>0.76</td>\n",
       "      <td>0.994056</td>\n",
       "      <td>0.030303</td>\n",
       "      <td>0.072727</td>\n",
       "      <td>0.000000</td>\n",
       "      <td>0.92</td>\n",
       "    </tr>\n",
       "    <tr>\n",
       "      <th>4</th>\n",
       "      <td>0.514563</td>\n",
       "      <td>0.878788</td>\n",
       "      <td>0.604167</td>\n",
       "      <td>0.0</td>\n",
       "      <td>0.82</td>\n",
       "      <td>0.181303</td>\n",
       "      <td>0.59</td>\n",
       "      <td>0.991580</td>\n",
       "      <td>0.101010</td>\n",
       "      <td>0.054545</td>\n",
       "      <td>0.010101</td>\n",
       "      <td>0.88</td>\n",
       "    </tr>\n",
       "    <tr>\n",
       "      <th>...</th>\n",
       "      <td>...</td>\n",
       "      <td>...</td>\n",
       "      <td>...</td>\n",
       "      <td>...</td>\n",
       "      <td>...</td>\n",
       "      <td>...</td>\n",
       "      <td>...</td>\n",
       "      <td>...</td>\n",
       "      <td>...</td>\n",
       "      <td>...</td>\n",
       "      <td>...</td>\n",
       "      <td>...</td>\n",
       "    </tr>\n",
       "    <tr>\n",
       "      <th>1989</th>\n",
       "      <td>0.456311</td>\n",
       "      <td>0.727273</td>\n",
       "      <td>0.729167</td>\n",
       "      <td>0.0</td>\n",
       "      <td>0.21</td>\n",
       "      <td>0.090652</td>\n",
       "      <td>0.63</td>\n",
       "      <td>0.969787</td>\n",
       "      <td>0.111111</td>\n",
       "      <td>0.127273</td>\n",
       "      <td>0.848485</td>\n",
       "      <td>0.60</td>\n",
       "    </tr>\n",
       "    <tr>\n",
       "      <th>1990</th>\n",
       "      <td>0.849515</td>\n",
       "      <td>0.959596</td>\n",
       "      <td>0.375000</td>\n",
       "      <td>0.0</td>\n",
       "      <td>0.76</td>\n",
       "      <td>0.096317</td>\n",
       "      <td>0.69</td>\n",
       "      <td>0.969787</td>\n",
       "      <td>0.767677</td>\n",
       "      <td>0.109091</td>\n",
       "      <td>0.737374</td>\n",
       "      <td>0.76</td>\n",
       "    </tr>\n",
       "    <tr>\n",
       "      <th>1991</th>\n",
       "      <td>0.815534</td>\n",
       "      <td>0.979798</td>\n",
       "      <td>0.552083</td>\n",
       "      <td>0.0</td>\n",
       "      <td>0.80</td>\n",
       "      <td>0.114731</td>\n",
       "      <td>0.74</td>\n",
       "      <td>0.970282</td>\n",
       "      <td>0.313131</td>\n",
       "      <td>0.127273</td>\n",
       "      <td>0.747475</td>\n",
       "      <td>0.72</td>\n",
       "    </tr>\n",
       "    <tr>\n",
       "      <th>1992</th>\n",
       "      <td>0.844660</td>\n",
       "      <td>0.606061</td>\n",
       "      <td>0.468750</td>\n",
       "      <td>0.0</td>\n",
       "      <td>0.26</td>\n",
       "      <td>0.229462</td>\n",
       "      <td>0.65</td>\n",
       "      <td>0.970282</td>\n",
       "      <td>0.070707</td>\n",
       "      <td>0.072727</td>\n",
       "      <td>0.545455</td>\n",
       "      <td>0.56</td>\n",
       "    </tr>\n",
       "    <tr>\n",
       "      <th>1993</th>\n",
       "      <td>0.645631</td>\n",
       "      <td>0.838384</td>\n",
       "      <td>0.510417</td>\n",
       "      <td>0.0</td>\n",
       "      <td>0.50</td>\n",
       "      <td>0.104816</td>\n",
       "      <td>0.56</td>\n",
       "      <td>0.970282</td>\n",
       "      <td>0.161616</td>\n",
       "      <td>0.054545</td>\n",
       "      <td>0.747475</td>\n",
       "      <td>0.68</td>\n",
       "    </tr>\n",
       "  </tbody>\n",
       "</table>\n",
       "<p>1994 rows × 12 columns</p>\n",
       "</div>"
      ],
      "text/plain": [
       "      Beats Per Minute (BPM)   Valence  Danceability  Genre Index  Energy  \\\n",
       "0                   0.762136  0.686869      0.552083          0.0    0.30   \n",
       "1                   0.655340  0.818182      0.520833          1.0    0.79   \n",
       "2                   0.815534  0.525253      0.687500          0.0    0.69   \n",
       "3                   0.839806  0.373737      0.447917          0.0    0.96   \n",
       "4                   0.514563  0.878788      0.604167          0.0    0.82   \n",
       "...                      ...       ...           ...          ...     ...   \n",
       "1989                0.456311  0.727273      0.729167          0.0    0.21   \n",
       "1990                0.849515  0.959596      0.375000          0.0    0.76   \n",
       "1991                0.815534  0.979798      0.552083          0.0    0.80   \n",
       "1992                0.844660  0.606061      0.468750          0.0    0.26   \n",
       "1993                0.645631  0.838384      0.510417          0.0    0.50   \n",
       "\n",
       "        Length  Popularity      Year  Liveness  Speechiness  Acousticness  \\\n",
       "0     0.142351        0.71  0.992571  0.111111     0.054545      0.949495   \n",
       "1     0.146601        0.39  0.990589  0.171717     0.127273      0.171717   \n",
       "2     0.241501        0.69  0.991085  0.070707     0.309091      0.020202   \n",
       "3     0.190510        0.76  0.994056  0.030303     0.072727      0.000000   \n",
       "4     0.181303        0.59  0.991580  0.101010     0.054545      0.010101   \n",
       "...        ...         ...       ...       ...          ...           ...   \n",
       "1989  0.090652        0.63  0.969787  0.111111     0.127273      0.848485   \n",
       "1990  0.096317        0.69  0.969787  0.767677     0.109091      0.737374   \n",
       "1991  0.114731        0.74  0.970282  0.313131     0.127273      0.747475   \n",
       "1992  0.229462        0.65  0.970282  0.070707     0.072727      0.545455   \n",
       "1993  0.104816        0.56  0.970282  0.161616     0.054545      0.747475   \n",
       "\n",
       "      Loudness (dB)  \n",
       "0              0.52  \n",
       "1              0.64  \n",
       "2              0.72  \n",
       "3              0.92  \n",
       "4              0.88  \n",
       "...             ...  \n",
       "1989           0.60  \n",
       "1990           0.76  \n",
       "1991           0.72  \n",
       "1992           0.56  \n",
       "1993           0.68  \n",
       "\n",
       "[1994 rows x 12 columns]"
      ]
     },
     "execution_count": 20,
     "metadata": {},
     "output_type": "execute_result"
    }
   ],
   "source": [
    "df[predictors]"
   ]
  },
  {
   "cell_type": "code",
   "execution_count": 21,
   "id": "75f0ce54",
   "metadata": {},
   "outputs": [],
   "source": [
    "df = df.dropna()"
   ]
  },
  {
   "cell_type": "code",
   "execution_count": 22,
   "id": "62be69b2",
   "metadata": {},
   "outputs": [
    {
     "data": {
      "text/html": [
       "<div>\n",
       "<style scoped>\n",
       "    .dataframe tbody tr th:only-of-type {\n",
       "        vertical-align: middle;\n",
       "    }\n",
       "\n",
       "    .dataframe tbody tr th {\n",
       "        vertical-align: top;\n",
       "    }\n",
       "\n",
       "    .dataframe thead th {\n",
       "        text-align: right;\n",
       "    }\n",
       "</style>\n",
       "<table border=\"1\" class=\"dataframe\">\n",
       "  <thead>\n",
       "    <tr style=\"text-align: right;\">\n",
       "      <th></th>\n",
       "      <th>count</th>\n",
       "      <th>mean</th>\n",
       "      <th>std</th>\n",
       "      <th>min</th>\n",
       "      <th>25%</th>\n",
       "      <th>50%</th>\n",
       "      <th>75%</th>\n",
       "      <th>max</th>\n",
       "    </tr>\n",
       "  </thead>\n",
       "  <tbody>\n",
       "    <tr>\n",
       "      <th>Year</th>\n",
       "      <td>1994.0</td>\n",
       "      <td>0.987119</td>\n",
       "      <td>0.007982</td>\n",
       "      <td>0.968796</td>\n",
       "      <td>0.980188</td>\n",
       "      <td>0.987122</td>\n",
       "      <td>0.994056</td>\n",
       "      <td>1.0</td>\n",
       "    </tr>\n",
       "    <tr>\n",
       "      <th>Beats Per Minute (BPM)</th>\n",
       "      <td>1994.0</td>\n",
       "      <td>0.583571</td>\n",
       "      <td>0.136059</td>\n",
       "      <td>0.179612</td>\n",
       "      <td>0.480583</td>\n",
       "      <td>0.577670</td>\n",
       "      <td>0.660194</td>\n",
       "      <td>1.0</td>\n",
       "    </tr>\n",
       "    <tr>\n",
       "      <th>Energy</th>\n",
       "      <td>1994.0</td>\n",
       "      <td>0.596795</td>\n",
       "      <td>0.221543</td>\n",
       "      <td>0.030000</td>\n",
       "      <td>0.420000</td>\n",
       "      <td>0.610000</td>\n",
       "      <td>0.780000</td>\n",
       "      <td>1.0</td>\n",
       "    </tr>\n",
       "    <tr>\n",
       "      <th>Danceability</th>\n",
       "      <td>1994.0</td>\n",
       "      <td>0.554565</td>\n",
       "      <td>0.159912</td>\n",
       "      <td>0.104167</td>\n",
       "      <td>0.447917</td>\n",
       "      <td>0.552083</td>\n",
       "      <td>0.666667</td>\n",
       "      <td>1.0</td>\n",
       "    </tr>\n",
       "    <tr>\n",
       "      <th>Loudness (dB)</th>\n",
       "      <td>1994.0</td>\n",
       "      <td>0.719659</td>\n",
       "      <td>0.145915</td>\n",
       "      <td>0.000000</td>\n",
       "      <td>0.640000</td>\n",
       "      <td>0.760000</td>\n",
       "      <td>0.840000</td>\n",
       "      <td>1.0</td>\n",
       "    </tr>\n",
       "    <tr>\n",
       "      <th>Liveness</th>\n",
       "      <td>1994.0</td>\n",
       "      <td>0.192041</td>\n",
       "      <td>0.168963</td>\n",
       "      <td>0.020202</td>\n",
       "      <td>0.090909</td>\n",
       "      <td>0.121212</td>\n",
       "      <td>0.232323</td>\n",
       "      <td>1.0</td>\n",
       "    </tr>\n",
       "    <tr>\n",
       "      <th>Valence</th>\n",
       "      <td>1994.0</td>\n",
       "      <td>0.499078</td>\n",
       "      <td>0.251093</td>\n",
       "      <td>0.030303</td>\n",
       "      <td>0.292929</td>\n",
       "      <td>0.474747</td>\n",
       "      <td>0.704545</td>\n",
       "      <td>1.0</td>\n",
       "    </tr>\n",
       "    <tr>\n",
       "      <th>Length</th>\n",
       "      <td>1994.0</td>\n",
       "      <td>0.185866</td>\n",
       "      <td>0.066292</td>\n",
       "      <td>0.065864</td>\n",
       "      <td>0.150142</td>\n",
       "      <td>0.173513</td>\n",
       "      <td>0.204674</td>\n",
       "      <td>1.0</td>\n",
       "    </tr>\n",
       "    <tr>\n",
       "      <th>Acousticness</th>\n",
       "      <td>1994.0</td>\n",
       "      <td>0.291496</td>\n",
       "      <td>0.293050</td>\n",
       "      <td>0.000000</td>\n",
       "      <td>0.030303</td>\n",
       "      <td>0.181818</td>\n",
       "      <td>0.505051</td>\n",
       "      <td>1.0</td>\n",
       "    </tr>\n",
       "    <tr>\n",
       "      <th>Speechiness</th>\n",
       "      <td>1994.0</td>\n",
       "      <td>0.090818</td>\n",
       "      <td>0.080028</td>\n",
       "      <td>0.036364</td>\n",
       "      <td>0.054545</td>\n",
       "      <td>0.072727</td>\n",
       "      <td>0.090909</td>\n",
       "      <td>1.0</td>\n",
       "    </tr>\n",
       "    <tr>\n",
       "      <th>Popularity</th>\n",
       "      <td>1994.0</td>\n",
       "      <td>0.595266</td>\n",
       "      <td>0.143516</td>\n",
       "      <td>0.110000</td>\n",
       "      <td>0.492500</td>\n",
       "      <td>0.620000</td>\n",
       "      <td>0.710000</td>\n",
       "      <td>1.0</td>\n",
       "    </tr>\n",
       "    <tr>\n",
       "      <th>Genre Index</th>\n",
       "      <td>1994.0</td>\n",
       "      <td>0.207121</td>\n",
       "      <td>0.405345</td>\n",
       "      <td>0.000000</td>\n",
       "      <td>0.000000</td>\n",
       "      <td>0.000000</td>\n",
       "      <td>0.000000</td>\n",
       "      <td>1.0</td>\n",
       "    </tr>\n",
       "  </tbody>\n",
       "</table>\n",
       "</div>"
      ],
      "text/plain": [
       "                         count      mean       std       min       25%  \\\n",
       "Year                    1994.0  0.987119  0.007982  0.968796  0.980188   \n",
       "Beats Per Minute (BPM)  1994.0  0.583571  0.136059  0.179612  0.480583   \n",
       "Energy                  1994.0  0.596795  0.221543  0.030000  0.420000   \n",
       "Danceability            1994.0  0.554565  0.159912  0.104167  0.447917   \n",
       "Loudness (dB)           1994.0  0.719659  0.145915  0.000000  0.640000   \n",
       "Liveness                1994.0  0.192041  0.168963  0.020202  0.090909   \n",
       "Valence                 1994.0  0.499078  0.251093  0.030303  0.292929   \n",
       "Length                  1994.0  0.185866  0.066292  0.065864  0.150142   \n",
       "Acousticness            1994.0  0.291496  0.293050  0.000000  0.030303   \n",
       "Speechiness             1994.0  0.090818  0.080028  0.036364  0.054545   \n",
       "Popularity              1994.0  0.595266  0.143516  0.110000  0.492500   \n",
       "Genre Index             1994.0  0.207121  0.405345  0.000000  0.000000   \n",
       "\n",
       "                             50%       75%  max  \n",
       "Year                    0.987122  0.994056  1.0  \n",
       "Beats Per Minute (BPM)  0.577670  0.660194  1.0  \n",
       "Energy                  0.610000  0.780000  1.0  \n",
       "Danceability            0.552083  0.666667  1.0  \n",
       "Loudness (dB)           0.760000  0.840000  1.0  \n",
       "Liveness                0.121212  0.232323  1.0  \n",
       "Valence                 0.474747  0.704545  1.0  \n",
       "Length                  0.173513  0.204674  1.0  \n",
       "Acousticness            0.181818  0.505051  1.0  \n",
       "Speechiness             0.072727  0.090909  1.0  \n",
       "Popularity              0.620000  0.710000  1.0  \n",
       "Genre Index             0.000000  0.000000  1.0  "
      ]
     },
     "execution_count": 22,
     "metadata": {},
     "output_type": "execute_result"
    }
   ],
   "source": [
    "df.describe().transpose()"
   ]
  },
  {
   "cell_type": "code",
   "execution_count": 23,
   "id": "08becfb3",
   "metadata": {},
   "outputs": [
    {
     "name": "stdout",
     "output_type": "stream",
     "text": [
      "0\n"
     ]
    }
   ],
   "source": [
    "#Show new duplicated variables -> none\n",
    "print(df.duplicated().sum())"
   ]
  },
  {
   "cell_type": "markdown",
   "id": "f8f50cee",
   "metadata": {},
   "source": [
    "Next I remove any features with a low variance and therefore low impact using the variance threshold package in sklearn"
   ]
  },
  {
   "cell_type": "code",
   "execution_count": 24,
   "id": "fcf662b2",
   "metadata": {},
   "outputs": [
    {
     "data": {
      "text/html": [
       "<div>\n",
       "<style scoped>\n",
       "    .dataframe tbody tr th:only-of-type {\n",
       "        vertical-align: middle;\n",
       "    }\n",
       "\n",
       "    .dataframe tbody tr th {\n",
       "        vertical-align: top;\n",
       "    }\n",
       "\n",
       "    .dataframe thead th {\n",
       "        text-align: right;\n",
       "    }\n",
       "</style>\n",
       "<table border=\"1\" class=\"dataframe\">\n",
       "  <thead>\n",
       "    <tr style=\"text-align: right;\">\n",
       "      <th></th>\n",
       "      <th>Beats Per Minute (BPM)</th>\n",
       "      <th>Energy</th>\n",
       "      <th>Danceability</th>\n",
       "      <th>Loudness (dB)</th>\n",
       "      <th>Liveness</th>\n",
       "      <th>Valence</th>\n",
       "      <th>Acousticness</th>\n",
       "      <th>Popularity</th>\n",
       "      <th>Genre Index</th>\n",
       "    </tr>\n",
       "  </thead>\n",
       "  <tbody>\n",
       "    <tr>\n",
       "      <th>0</th>\n",
       "      <td>0.762136</td>\n",
       "      <td>0.30</td>\n",
       "      <td>0.552083</td>\n",
       "      <td>0.52</td>\n",
       "      <td>0.111111</td>\n",
       "      <td>0.686869</td>\n",
       "      <td>0.949495</td>\n",
       "      <td>0.71</td>\n",
       "      <td>0.0</td>\n",
       "    </tr>\n",
       "    <tr>\n",
       "      <th>1</th>\n",
       "      <td>0.655340</td>\n",
       "      <td>0.79</td>\n",
       "      <td>0.520833</td>\n",
       "      <td>0.64</td>\n",
       "      <td>0.171717</td>\n",
       "      <td>0.818182</td>\n",
       "      <td>0.171717</td>\n",
       "      <td>0.39</td>\n",
       "      <td>1.0</td>\n",
       "    </tr>\n",
       "    <tr>\n",
       "      <th>2</th>\n",
       "      <td>0.815534</td>\n",
       "      <td>0.69</td>\n",
       "      <td>0.687500</td>\n",
       "      <td>0.72</td>\n",
       "      <td>0.070707</td>\n",
       "      <td>0.525253</td>\n",
       "      <td>0.020202</td>\n",
       "      <td>0.69</td>\n",
       "      <td>0.0</td>\n",
       "    </tr>\n",
       "    <tr>\n",
       "      <th>3</th>\n",
       "      <td>0.839806</td>\n",
       "      <td>0.96</td>\n",
       "      <td>0.447917</td>\n",
       "      <td>0.92</td>\n",
       "      <td>0.030303</td>\n",
       "      <td>0.373737</td>\n",
       "      <td>0.000000</td>\n",
       "      <td>0.76</td>\n",
       "      <td>0.0</td>\n",
       "    </tr>\n",
       "    <tr>\n",
       "      <th>4</th>\n",
       "      <td>0.514563</td>\n",
       "      <td>0.82</td>\n",
       "      <td>0.604167</td>\n",
       "      <td>0.88</td>\n",
       "      <td>0.101010</td>\n",
       "      <td>0.878788</td>\n",
       "      <td>0.010101</td>\n",
       "      <td>0.59</td>\n",
       "      <td>0.0</td>\n",
       "    </tr>\n",
       "  </tbody>\n",
       "</table>\n",
       "</div>"
      ],
      "text/plain": [
       "   Beats Per Minute (BPM)  Energy  Danceability  Loudness (dB)  Liveness  \\\n",
       "0                0.762136    0.30      0.552083           0.52  0.111111   \n",
       "1                0.655340    0.79      0.520833           0.64  0.171717   \n",
       "2                0.815534    0.69      0.687500           0.72  0.070707   \n",
       "3                0.839806    0.96      0.447917           0.92  0.030303   \n",
       "4                0.514563    0.82      0.604167           0.88  0.101010   \n",
       "\n",
       "    Valence  Acousticness  Popularity  Genre Index  \n",
       "0  0.686869      0.949495        0.71          0.0  \n",
       "1  0.818182      0.171717        0.39          1.0  \n",
       "2  0.525253      0.020202        0.69          0.0  \n",
       "3  0.373737      0.000000        0.76          0.0  \n",
       "4  0.878788      0.010101        0.59          0.0  "
      ]
     },
     "execution_count": 24,
     "metadata": {},
     "output_type": "execute_result"
    }
   ],
   "source": [
    "from sklearn.feature_selection import VarianceThreshold\n",
    "#create the threshold\n",
    "vt = VarianceThreshold(threshold=.01)\n",
    "#remove features with a low variance\n",
    "vt.fit(df)\n",
    "#grab the column names\n",
    "mask = vt.get_support()\n",
    "#add the column names back to the updated dataframe\n",
    "df = df.loc[:, mask]\n",
    "#update list of predictors\n",
    "predictors = list(set(list(df.columns)))\n",
    "df.head()\n"
   ]
  },
  {
   "cell_type": "markdown",
   "id": "3041825a",
   "metadata": {},
   "source": [
    "## Modeling"
   ]
  },
  {
   "cell_type": "markdown",
   "id": "dd9c9010",
   "metadata": {},
   "source": [
    "Now that the dataset has been finalized I can now split the data."
   ]
  },
  {
   "cell_type": "code",
   "execution_count": 25,
   "id": "bf4bc0d8",
   "metadata": {},
   "outputs": [],
   "source": [
    "from sklearn.model_selection import train_test_split\n",
    "X_train, X_test, y_train, y_test = train_test_split(df[predictors].values, df[\"Genre Index\"], test_size=.90, random_state=40)"
   ]
  },
  {
   "cell_type": "markdown",
   "id": "ede22b82",
   "metadata": {},
   "source": [
    "## Multi Layer Perceptron\n",
    "\n",
    "Now that I have all the data where it needs to be I will use a few different models to test out predcitions. The first I will show is a multi-layer perceptron. I chose this because mlps are use for supervised learning (this is a great demonstration for that)."
   ]
  },
  {
   "cell_type": "code",
   "execution_count": 34,
   "id": "13f2b582",
   "metadata": {},
   "outputs": [],
   "source": [
    "from sklearn.neural_network import MLPClassifier\n",
    "nodes = len(df.columns)\n",
    "mlp = MLPClassifier(hidden_layer_sizes=(nodes,nodes), activation='relu', solver='adam', max_iter=1000)\n",
    "mlp.fit(X_train, y_train)\n",
    "\n",
    "mlp_prediction = mlp.predict(X_test)"
   ]
  },
  {
   "cell_type": "code",
   "execution_count": 35,
   "id": "40b68edd",
   "metadata": {},
   "outputs": [
    {
     "name": "stdout",
     "output_type": "stream",
     "text": [
      "              precision    recall  f1-score   support\n",
      "\n",
      "         0.0       1.00      1.00      1.00      1425\n",
      "         1.0       1.00      1.00      1.00       370\n",
      "\n",
      "    accuracy                           1.00      1795\n",
      "   macro avg       1.00      1.00      1.00      1795\n",
      "weighted avg       1.00      1.00      1.00      1795\n",
      "\n"
     ]
    },
    {
     "data": {
      "image/png": "[encoded data removed]",
      "text/plain": [
       "<Figure size 432x288 with 2 Axes>"
      ]
     },
     "metadata": {
      "needs_background": "light"
     },
     "output_type": "display_data"
    }
   ],
   "source": [
    "from sklearn.metrics import classification_report,confusion_matrix, ConfusionMatrixDisplay\n",
    "\n",
    "cm = confusion_matrix(y_test, mlp_prediction)\n",
    "disp = ConfusionMatrixDisplay(confusion_matrix=cm)\n",
    "disp.plot()\n",
    "print(classification_report(y_test, mlp_prediction))"
   ]
  },
  {
   "cell_type": "code",
   "execution_count": 36,
   "id": "6afb8222",
   "metadata": {},
   "outputs": [
    {
     "data": {
      "text/plain": [
       "(1795, 1425, 370, 0, 0, 1.0)"
      ]
     },
     "execution_count": 36,
     "metadata": {},
     "output_type": "execute_result"
    }
   ],
   "source": [
    "total = cm[0][1] + cm[0][0] + cm[1][0] + cm[1][1]\n",
    "orig_tp = cm[0][0]\n",
    "orig_tn = cm[1][1]\n",
    "orig_fp = cm[1][0]\n",
    "orig_fn = cm[0][1]\n",
    "orig_accuracy = (cm[0][0] + cm[1][1]) / total\n",
    "\n",
    "total, orig_tp, orig_tn, orig_fp, orig_fn, orig_accuracy"
   ]
  },
  {
   "cell_type": "markdown",
   "id": "a93f90cc",
   "metadata": {},
   "source": [
    "Looking at the results above, the mlp seems to have a pretty fair prediction of the data. This model has 2 true negatives and no false postives. This seems like a pretty good model for the data."
   ]
  },
  {
   "cell_type": "markdown",
   "id": "2011988a",
   "metadata": {},
   "source": [
    "### Logistic Regression"
   ]
  },
  {
   "cell_type": "markdown",
   "id": "1083ff1c",
   "metadata": {},
   "source": [
    "Logistic Regression is a logical choice when evaluating binary data because the answer is either correct or not. This means we could possibly split the data into the correct category if it is possible. "
   ]
  },
  {
   "cell_type": "code",
   "execution_count": 37,
   "id": "0d404e45",
   "metadata": {},
   "outputs": [
    {
     "name": "stdout",
     "output_type": "stream",
     "text": [
      "              precision    recall  f1-score   support\n",
      "\n",
      "         0.0       1.00      1.00      1.00      1425\n",
      "         1.0       1.00      1.00      1.00       370\n",
      "\n",
      "    accuracy                           1.00      1795\n",
      "   macro avg       1.00      1.00      1.00      1795\n",
      "weighted avg       1.00      1.00      1.00      1795\n",
      "\n"
     ]
    },
    {
     "data": {
      "image/png": "[encoded data removed]",
      "text/plain": [
       "<Figure size 432x288 with 2 Axes>"
      ]
     },
     "metadata": {
      "needs_background": "light"
     },
     "output_type": "display_data"
    }
   ],
   "source": [
    "from sklearn.linear_model import LogisticRegression\n",
    "lr = LogisticRegression(random_state=0)\n",
    "\n",
    "lr.fit(X_train, y_train)\n",
    "\n",
    "lr_predict = lr.predict(X_test)\n",
    "\n",
    "cm = confusion_matrix(y_test, lr_predict)\n",
    "disp = ConfusionMatrixDisplay(confusion_matrix=cm)\n",
    "disp.plot()\n",
    "print(classification_report(y_test, lr_predict))\n"
   ]
  },
  {
   "cell_type": "markdown",
   "id": "5d27faf6",
   "metadata": {},
   "source": [
    "This model seems incredibly accurate as it predicts all of the test data just based on the fit of regression. There are no false positives or false negatives. It seems the data can truly be classified well. "
   ]
  },
  {
   "cell_type": "markdown",
   "id": "aacfa99a",
   "metadata": {},
   "source": [
    "## K Nearest Neighbor"
   ]
  },
  {
   "cell_type": "code",
   "execution_count": 38,
   "id": "3dd2a5db",
   "metadata": {},
   "outputs": [
    {
     "name": "stdout",
     "output_type": "stream",
     "text": [
      "              precision    recall  f1-score   support\n",
      "\n",
      "         0.0       1.00      1.00      1.00      1425\n",
      "         1.0       1.00      1.00      1.00       370\n",
      "\n",
      "    accuracy                           1.00      1795\n",
      "   macro avg       1.00      1.00      1.00      1795\n",
      "weighted avg       1.00      1.00      1.00      1795\n",
      "\n"
     ]
    },
    {
     "data": {
      "image/png": "[encoded data removed]",
      "text/plain": [
       "<Figure size 432x288 with 2 Axes>"
      ]
     },
     "metadata": {
      "needs_background": "light"
     },
     "output_type": "display_data"
    }
   ],
   "source": [
    "from sklearn.neighbors import KNeighborsClassifier\n",
    "neigh = KNeighborsClassifier()\n",
    "\n",
    "neigh.fit(X_train, y_train)\n",
    "\n",
    "predict_test = neigh.predict(X_test)\n",
    "\n",
    "\n",
    "cm = confusion_matrix(y_test, predict_test)\n",
    "disp = ConfusionMatrixDisplay(confusion_matrix=cm)\n",
    "disp.plot()\n",
    "print(classification_report(y_test, predict_test))"
   ]
  },
  {
   "cell_type": "markdown",
   "id": "9f2dcb7b",
   "metadata": {},
   "source": [
    "The k nearerest neighbors is a common tool that uses relative distance from clusters to determine classification. This model also has a very good undesrstanding of the data with no false positives or true negatives. I'm starting to get a sense that our data I am feeding the model may be too small because the models are predicting very well.\n",
    "\n",
    "I considered that there was overfitting but the training set is only a few hundred data points so I wouldnt think that would be the issue. "
   ]
  },
  {
   "cell_type": "markdown",
   "id": "35eaa8eb",
   "metadata": {},
   "source": [
    "Thanks!"
   ]
  }
 ],
 "metadata": {
  "kernelspec": {
   "display_name": "Python 3",
   "language": "python",
   "name": "python3"
  },
  "language_info": {
   "codemirror_mode": {
    "name": "ipython",
    "version": 3
   },
   "file_extension": ".py",
   "mimetype": "text/x-python",
   "name": "python",
   "nbconvert_exporter": "python",
   "pygments_lexer": "ipython3",
   "version": "3.8.8"
  }
 },
 "nbformat": 4,
 "nbformat_minor": 5
}
